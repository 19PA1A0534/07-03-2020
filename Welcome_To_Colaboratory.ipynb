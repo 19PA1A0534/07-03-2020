{
  "nbformat": 4,
  "nbformat_minor": 0,
  "metadata": {
    "colab": {
      "name": "Welcome To Colaboratory",
      "provenance": [],
      "collapsed_sections": [],
      "include_colab_link": true
    },
    "kernelspec": {
      "display_name": "Python 3",
      "name": "python3"
    }
  },
  "cells": [
    {
      "cell_type": "markdown",
      "metadata": {
        "id": "view-in-github",
        "colab_type": "text"
      },
      "source": [
        "<a href=\"https://colab.research.google.com/github/19PA1A0534/07-03-2020/blob/master/Welcome_To_Colaboratory.ipynb\" target=\"_parent\"><img src=\"https://colab.research.google.com/assets/colab-badge.svg\" alt=\"Open In Colab\"/></a>"
      ]
    },
    {
      "cell_type": "markdown",
      "metadata": {
        "id": "mlzwqIBVlXLr",
        "colab_type": "text"
      },
      "source": [
        "My Jupyter Notebook"
      ]
    },
    {
      "cell_type": "markdown",
      "metadata": {
        "id": "gi94ZbNxlbNK",
        "colab_type": "text"
      },
      "source": [
        "Bala Mahesh"
      ]
    },
    {
      "cell_type": "markdown",
      "metadata": {
        "id": "T0JgXKluldTp",
        "colab_type": "text"
      },
      "source": [
        "Student"
      ]
    },
    {
      "cell_type": "markdown",
      "metadata": {
        "id": "fcW4vPhdljsc",
        "colab_type": "text"
      },
      "source": [
        "This is an Bold text"
      ]
    },
    {
      "cell_type": "markdown",
      "metadata": {
        "id": "Ep8Xhg7hlqg_",
        "colab_type": "text"
      },
      "source": [
        "The code below prints the sum of two numbers"
      ]
    },
    {
      "cell_type": "code",
      "metadata": {
        "id": "lq1vI9QmlzYM",
        "colab_type": "code",
        "colab": {
          "base_uri": "https://localhost:8080/",
          "height": 34
        },
        "outputId": "accf6852-8cc6-404d-9a45-54c1db3428c1"
      },
      "source": [
        "10+20"
      ],
      "execution_count": 1,
      "outputs": [
        {
          "output_type": "execute_result",
          "data": {
            "text/plain": [
              "30"
            ]
          },
          "metadata": {
            "tags": []
          },
          "execution_count": 1
        }
      ]
    },
    {
      "cell_type": "markdown",
      "metadata": {
        "id": "FoypyNRAmA9k",
        "colab_type": "text"
      },
      "source": [
        "This prints the Multiplication of two numbers"
      ]
    },
    {
      "cell_type": "code",
      "metadata": {
        "id": "lZVbTlHumIXJ",
        "colab_type": "code",
        "colab": {
          "base_uri": "https://localhost:8080/",
          "height": 34
        },
        "outputId": "cc857e47-9f9a-4a94-e97c-492b51009916"
      },
      "source": [
        "10*20"
      ],
      "execution_count": 2,
      "outputs": [
        {
          "output_type": "execute_result",
          "data": {
            "text/plain": [
              "200"
            ]
          },
          "metadata": {
            "tags": []
          },
          "execution_count": 2
        }
      ]
    },
    {
      "cell_type": "markdown",
      "metadata": {
        "id": "g7rp5PRDmLT6",
        "colab_type": "text"
      },
      "source": [
        "\n",
        "\n",
        "1.   List item\n",
        "2.   List item\n",
        "\n"
      ]
    },
    {
      "cell_type": "markdown",
      "metadata": {
        "id": "Wsdz7R7VmTm5",
        "colab_type": "text"
      },
      "source": [
        "\n",
        "\n",
        "*   List item\n",
        "*   List item\n",
        "\n"
      ]
    }
  ]
}